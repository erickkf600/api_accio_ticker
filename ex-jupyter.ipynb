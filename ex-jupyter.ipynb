{
 "cells": [
  {
   "cell_type": "code",
   "execution_count": 55,
   "metadata": {},
   "outputs": [],
   "source": [
    "import yfinance as yf\n",
    "from datetime import datetime\n",
    "import json"
   ]
  },
  {
   "cell_type": "code",
   "execution_count": 94,
   "metadata": {},
   "outputs": [
    {
     "name": "stderr",
     "output_type": "stream",
     "text": [
      "[*********************100%***********************]  2 of 2 completed"
     ]
    },
    {
     "name": "stdout",
     "output_type": "stream",
     "text": [
      "[\n",
      "    {\n",
      "        \"ticker\": \"MXRF11\",\n",
      "        \"valores\": [\n",
      "            {\n",
      "                \"data\": \"2025-07-30\",\n",
      "                \"valor\": \"9.53\"\n",
      "            },\n",
      "            {\n",
      "                \"data\": \"2025-07-31\",\n",
      "                \"valor\": \"9.60\"\n",
      "            }\n",
      "        ]\n",
      "    },\n",
      "    {\n",
      "        \"ticker\": \"PETR4\",\n",
      "        \"valores\": [\n",
      "            {\n",
      "                \"data\": \"2025-07-30\",\n",
      "                \"valor\": \"32.77\"\n",
      "            },\n",
      "            {\n",
      "                \"data\": \"2025-07-31\",\n",
      "                \"valor\": \"32.64\"\n",
      "            }\n",
      "        ]\n",
      "    }\n",
      "]\n"
     ]
    },
    {
     "name": "stderr",
     "output_type": "stream",
     "text": [
      "\n"
     ]
    }
   ],
   "source": [
    "df = yf.download(['mxrf11.sa', 'petr4.sa'], start='2025-07-30', end='2025-08-01', auto_adjust=False)\n",
    "\n",
    "# Pega só o Close e reseta o índice (pra ter a coluna Date)\n",
    "close_df = df[\"Close\"].reset_index()\n",
    "close_df[\"Date\"] = close_df[\"Date\"].dt.strftime(\"%Y-%m-%d\")\n",
    "\n",
    "result = [\n",
    "    {\n",
    "        \"ticker\": ticker.replace(\".SA\", \"\"),\n",
    "        \"valores\": [\n",
    "            {\"data\": row[\"Date\"], \"valor\": f\"{row[ticker]:.2f}\"}\n",
    "            for _, row in close_df.iterrows()\n",
    "        ]\n",
    "    }\n",
    "    for ticker in close_df.columns if ticker != \"Date\"\n",
    "]\n",
    "\n",
    "print(json.dumps(result, indent=4, ensure_ascii=False))\n",
    "\n",
    "\n",
    "\n",
    "# close_df = df[\"Close\"]\n",
    "# close_df = close_df.reset_index()\n",
    "# json_data = close_df.to_dict(orient=\"records\")\n",
    "# result = []\n",
    "# for ticker in json_data:\n",
    "    # print(datetime.strptime(str(ticker['Date']), \"%Y-%m-%d %H:%M:%S\").strftime(\"%Y-%m-%d\"))\n",
    "    # print(datetime.strptime(str(ticker['Date']), \"%Y-%m-%d\").strftime(\"%d/%m/%Y\"))\n",
    "    \n",
    "# for idx, ticker in enumerate(close_df.columns):  \n",
    "#     valores = [\n",
    "#         {\"data\": date, \"valor\": f\"{close_df.loc[date, ticker]:.2f}\"}\n",
    "#         for date in close_df.index\n",
    "#     ]\n",
    "#     print(valores)\n",
    "\n",
    "# for ticker in close_df.columns:\n",
    "    # valores = [\n",
    "    #     {\"data\": date, \"valor\": f\"{close_df.loc[date, ticker]:.2f}\"}\n",
    "    #     for date in close_df.index\n",
    "    # ]\n",
    "#     result.append({\n",
    "#         \"ticker\": ticker.replace(\".SA\", \"\"),\n",
    "#         \"valores\": valores\n",
    "#     })\n",
    "\n",
    "# result"
   ]
  }
 ],
 "metadata": {
  "kernelspec": {
   "display_name": "Python 3",
   "language": "python",
   "name": "python3"
  },
  "language_info": {
   "codemirror_mode": {
    "name": "ipython",
    "version": 3
   },
   "file_extension": ".py",
   "mimetype": "text/x-python",
   "name": "python",
   "nbconvert_exporter": "python",
   "pygments_lexer": "ipython3",
   "version": "3.13.0"
  }
 },
 "nbformat": 4,
 "nbformat_minor": 2
}
